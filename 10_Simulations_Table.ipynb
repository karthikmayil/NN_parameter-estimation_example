{
 "cells": [
  {
   "cell_type": "code",
   "execution_count": 1,
   "metadata": {},
   "outputs": [],
   "source": [
    "import numpy as np\n",
    "import pandas as pd\n",
    "import matplotlib.pyplot as plt\n",
    "import os"
   ]
  },
  {
   "cell_type": "markdown",
   "metadata": {},
   "source": [
    "The purpose of this file is to create a table of parameters that correspond to the simulations you want to do. I recommend including both material parameters (diffusivities, rate constants, etc), electrode parameters (porosity, thickness, etc), as well as operational parameters (c-rate, etc) here.\n",
    "\n",
    "In this example I will consider three material parameters and one operational parameter. I am generating simulations to create a NN that can estimate three parameters for a **thin electrode** at any c-rate within a desired range. If you care about electrode scale effects, you may want to generate a training set with different thicknesses and porosities. Happy to discuss in detail individually on strategies for the specific problem at hand."
   ]
  },
  {
   "cell_type": "code",
   "execution_count": 2,
   "metadata": {},
   "outputs": [],
   "source": [
    "# list out parameters, lower bounds, upper bounds, and save these to a file. will be useful later\n",
    "ps = ['CRATE','AML_ADJ','DF_A','I0_A']\n",
    "l_bounds = [0.1,0.5,-14,-8]\n",
    "u_bounds = [2,1,-11,-6]\n",
    "pd.DataFrame({'lb':l_bounds,'ub':u_bounds},index=ps).to_csv('10_training_set_params/sampling_bounds.csv',sep=',')\n",
    "\n",
    "# specify which of the parameters are the ones you are trying to predict using the NN\n",
    "target_ps = ['AML_ADJ','DF_A','I0_A']"
   ]
  },
  {
   "cell_type": "code",
   "execution_count": 3,
   "metadata": {},
   "outputs": [
    {
     "data": {
      "image/png": "[encoded data removed]",
      "text/plain": [
       "<Figure size 432x288 with 1 Axes>"
      ]
     },
     "metadata": {
      "needs_background": "light"
     },
     "output_type": "display_data"
    }
   ],
   "source": [
    "# I use different number of node points in my crystal scale for different c-rates. \n",
    "# This block of code just creates a function to figure out number of nodes needed for any arbitrary c-rate\n",
    "# based on some node values I know work at different c-rates\n",
    "\n",
    "crs = [0.2,0.5,1,2]\n",
    "nodes = [30,50,70,120]\n",
    "\n",
    "plt.plot(crs,nodes,'-o')\n",
    "\n",
    "f = np.poly1d(np.polyfit(crs,nodes,1))"
   ]
  },
  {
   "cell_type": "markdown",
   "metadata": {},
   "source": [
    "I will use Sobol sampling (implemented using scipy) to create the samples I need in my design space. Specify `N_add`, the number of samples you want to add. If you have already done some sampling and want to do denser sampling, this code will add `N_add` simulations to your exisiting list of simulations"
   ]
  },
  {
   "cell_type": "code",
   "execution_count": 4,
   "metadata": {},
   "outputs": [],
   "source": [
    "from scipy.stats import qmc\n",
    "sampler = qmc.Sobol(d=len(ps), scramble=False)"
   ]
  },
  {
   "cell_type": "code",
   "execution_count": 5,
   "metadata": {},
   "outputs": [
    {
     "name": "stdout",
     "output_type": "stream",
     "text": [
      "1024 existing samples\n"
     ]
    }
   ],
   "source": [
    "# specify the number of ismulations you wan to add\n",
    "N_add = 0\n",
    "\n",
    "# this will just look for whether you have an existing simulation parameter table. \n",
    "# if so, it will add to it\n",
    "# if not, it will create a new one\n",
    "\n",
    "iterations = []\n",
    "for file in os.listdir('10_training_set_params/'):\n",
    "    if file.startswith('Simulation_Parameters'):\n",
    "        iterations.append(int(file.split('_I')[1].split('.')[0]))\n",
    "\n",
    "_ = sampler.reset()\n",
    "if len(iterations)==0:\n",
    "    \n",
    "    sample = sampler.random(N_add)\n",
    "    sample = qmc.scale(sample, l_bounds, u_bounds)\n",
    "    \n",
    "    new_iteration_filename = f'Simulation_Parameters_I0.csv'\n",
    "    sim_table = pd.DataFrame(sample,columns=ps)\n",
    "    \n",
    "else:\n",
    "    i = np.max(iterations)\n",
    "    latest_iteration_filename = f'10_training_set_params/Simulation_Parameters_I{i}.csv'\n",
    "    \n",
    "    sample = pd.read_csv(latest_iteration_filename,sep=',',index_col=0)\n",
    "    sample = sample[ps]\n",
    "    print(f'{len(sample)} existing samples')\n",
    "    \n",
    "    _ = sampler.fast_forward(len(sample))\n",
    "    sample_cont = sampler.random(N_add)\n",
    "    sample_cont = qmc.scale(sample_cont, l_bounds, u_bounds)\n",
    "    \n",
    "    if len(sample_cont)>0:\n",
    "        sample = np.concatenate([sample,sample_cont])\n",
    "        i = i+1\n",
    "    new_iteration_filename = f'10_training_set_params/Simulation_Parameters_I{i}.csv'\n",
    "    sim_table =pd.DataFrame(sample,columns=ps)"
   ]
  },
  {
   "cell_type": "code",
   "execution_count": 6,
   "metadata": {},
   "outputs": [],
   "source": [
    "# this just adds the nodes I need based on the c-rate function\n",
    "sim_table['XTAL_NODES'] = f(sim_table['CRATE'].values).astype(int)"
   ]
  },
  {
   "cell_type": "code",
   "execution_count": 8,
   "metadata": {},
   "outputs": [],
   "source": [
    "# save the simulation parameter table that was generated\n",
    "sim_table.to_csv(new_iteration_filename,sep=',')\n",
    "\n",
    "sim_table[target_ps].to_csv(f'10_training_set_params/targets_I{i}.csv',sep=',')"
   ]
  },
  {
   "cell_type": "markdown",
   "metadata": {},
   "source": [
    "**Important**: always check the distribution of your parameters before simulating to make sure they are roughly uniform."
   ]
  },
  {
   "cell_type": "code",
   "execution_count": 10,
   "metadata": {},
   "outputs": [
    {
     "data": {
      "text/html": [
       "<div>\n",
       "<style scoped>\n",
       "    .dataframe tbody tr th:only-of-type {\n",
       "        vertical-align: middle;\n",
       "    }\n",
       "\n",
       "    .dataframe tbody tr th {\n",
       "        vertical-align: top;\n",
       "    }\n",
       "\n",
       "    .dataframe thead th {\n",
       "        text-align: right;\n",
       "    }\n",
       "</style>\n",
       "<table border=\"1\" class=\"dataframe\">\n",
       "  <thead>\n",
       "    <tr style=\"text-align: right;\">\n",
       "      <th></th>\n",
       "      <th>CRATE</th>\n",
       "      <th>AML_ADJ</th>\n",
       "      <th>DF_A</th>\n",
       "      <th>I0_A</th>\n",
       "    </tr>\n",
       "  </thead>\n",
       "  <tbody>\n",
       "    <tr>\n",
       "      <th>0</th>\n",
       "      <td>0.100000</td>\n",
       "      <td>0.500000</td>\n",
       "      <td>-14.000000</td>\n",
       "      <td>-8.000000</td>\n",
       "    </tr>\n",
       "    <tr>\n",
       "      <th>1</th>\n",
       "      <td>1.050000</td>\n",
       "      <td>0.750000</td>\n",
       "      <td>-12.500000</td>\n",
       "      <td>-7.000000</td>\n",
       "    </tr>\n",
       "    <tr>\n",
       "      <th>2</th>\n",
       "      <td>1.525000</td>\n",
       "      <td>0.625000</td>\n",
       "      <td>-13.250000</td>\n",
       "      <td>-7.500000</td>\n",
       "    </tr>\n",
       "    <tr>\n",
       "      <th>3</th>\n",
       "      <td>0.575000</td>\n",
       "      <td>0.875000</td>\n",
       "      <td>-11.750000</td>\n",
       "      <td>-6.500000</td>\n",
       "    </tr>\n",
       "    <tr>\n",
       "      <th>4</th>\n",
       "      <td>0.812500</td>\n",
       "      <td>0.687500</td>\n",
       "      <td>-12.125000</td>\n",
       "      <td>-6.250000</td>\n",
       "    </tr>\n",
       "    <tr>\n",
       "      <th>...</th>\n",
       "      <td>...</td>\n",
       "      <td>...</td>\n",
       "      <td>...</td>\n",
       "      <td>...</td>\n",
       "    </tr>\n",
       "    <tr>\n",
       "      <th>1019</th>\n",
       "      <td>0.814355</td>\n",
       "      <td>0.813965</td>\n",
       "      <td>-13.288086</td>\n",
       "      <td>-6.458984</td>\n",
       "    </tr>\n",
       "    <tr>\n",
       "      <th>1020</th>\n",
       "      <td>0.576855</td>\n",
       "      <td>0.501465</td>\n",
       "      <td>-12.913086</td>\n",
       "      <td>-6.208984</td>\n",
       "    </tr>\n",
       "    <tr>\n",
       "      <th>1021</th>\n",
       "      <td>1.526855</td>\n",
       "      <td>0.751465</td>\n",
       "      <td>-11.413086</td>\n",
       "      <td>-7.208984</td>\n",
       "    </tr>\n",
       "    <tr>\n",
       "      <th>1022</th>\n",
       "      <td>1.051855</td>\n",
       "      <td>0.626465</td>\n",
       "      <td>-13.663086</td>\n",
       "      <td>-6.708984</td>\n",
       "    </tr>\n",
       "    <tr>\n",
       "      <th>1023</th>\n",
       "      <td>0.101855</td>\n",
       "      <td>0.876465</td>\n",
       "      <td>-12.163086</td>\n",
       "      <td>-7.708984</td>\n",
       "    </tr>\n",
       "  </tbody>\n",
       "</table>\n",
       "<p>1024 rows × 4 columns</p>\n",
       "</div>"
      ],
      "text/plain": [
       "         CRATE   AML_ADJ       DF_A      I0_A\n",
       "0     0.100000  0.500000 -14.000000 -8.000000\n",
       "1     1.050000  0.750000 -12.500000 -7.000000\n",
       "2     1.525000  0.625000 -13.250000 -7.500000\n",
       "3     0.575000  0.875000 -11.750000 -6.500000\n",
       "4     0.812500  0.687500 -12.125000 -6.250000\n",
       "...        ...       ...        ...       ...\n",
       "1019  0.814355  0.813965 -13.288086 -6.458984\n",
       "1020  0.576855  0.501465 -12.913086 -6.208984\n",
       "1021  1.526855  0.751465 -11.413086 -7.208984\n",
       "1022  1.051855  0.626465 -13.663086 -6.708984\n",
       "1023  0.101855  0.876465 -12.163086 -7.708984\n",
       "\n",
       "[1024 rows x 4 columns]"
      ]
     },
     "execution_count": 10,
     "metadata": {},
     "output_type": "execute_result"
    }
   ],
   "source": [
    "sample"
   ]
  },
  {
   "cell_type": "code",
   "execution_count": 16,
   "metadata": {},
   "outputs": [
    {
     "data": {
      "text/plain": [
       "<matplotlib.collections.PathCollection at 0x7f976c2ffd30>"
      ]
     },
     "execution_count": 16,
     "metadata": {},
     "output_type": "execute_result"
    },
    {
     "data": {
      "image/png": "[encoded data removed]",
      "text/plain": [
       "<Figure size 432x288 with 1 Axes>"
      ]
     },
     "metadata": {
      "needs_background": "light"
     },
     "output_type": "display_data"
    }
   ],
   "source": [
    "plt.scatter(sim_table['AML_ADJ'],sim_table['DF_A'])"
   ]
  },
  {
   "cell_type": "code",
   "execution_count": 17,
   "metadata": {},
   "outputs": [
    {
     "data": {
      "text/plain": [
       "(array([103., 102., 102., 103., 102., 102., 103., 102., 102., 103.]),\n",
       " array([0.5       , 0.54995117, 0.59990234, 0.64985352, 0.69980469,\n",
       "        0.74975586, 0.79970703, 0.8496582 , 0.89960938, 0.94956055,\n",
       "        0.99951172]),\n",
       " <a list of 10 Patch objects>)"
      ]
     },
     "execution_count": 17,
     "metadata": {},
     "output_type": "execute_result"
    },
    {
     "data": {
      "image/png": "[encoded data removed]",
      "text/plain": [
       "<Figure size 432x288 with 1 Axes>"
      ]
     },
     "metadata": {
      "needs_background": "light"
     },
     "output_type": "display_data"
    }
   ],
   "source": [
    "plt.hist(sim_table['AML_ADJ'])"
   ]
  },
  {
   "cell_type": "code",
   "execution_count": null,
   "metadata": {},
   "outputs": [],
   "source": []
  }
 ],
 "metadata": {
  "hide_input": false,
  "kernelspec": {
   "display_name": "Python 3",
   "language": "python",
   "name": "python3"
  },
  "language_info": {
   "codemirror_mode": {
    "name": "ipython",
    "version": 3
   },
   "file_extension": ".py",
   "mimetype": "text/x-python",
   "name": "python",
   "nbconvert_exporter": "python",
   "pygments_lexer": "ipython3",
   "version": "3.8.3"
  },
  "toc": {
   "base_numbering": 1,
   "nav_menu": {},
   "number_sections": true,
   "sideBar": true,
   "skip_h1_title": false,
   "title_cell": "Table of Contents",
   "title_sidebar": "Contents",
   "toc_cell": false,
   "toc_position": {},
   "toc_section_display": true,
   "toc_window_display": false
  }
 },
 "nbformat": 4,
 "nbformat_minor": 4
}
