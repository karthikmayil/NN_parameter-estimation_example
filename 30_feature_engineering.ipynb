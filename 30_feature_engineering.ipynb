{
 "cells": [
  {
   "cell_type": "code",
   "execution_count": 2,
   "metadata": {},
   "outputs": [],
   "source": [
    "import pandas as pd\n",
    "import numpy as np"
   ]
  },
  {
   "cell_type": "markdown",
   "metadata": {},
   "source": [
    "# Data Augmentation"
   ]
  },
  {
   "cell_type": "markdown",
   "metadata": {},
   "source": [
    "This section performs data augmentation on the original simulation set. Essentially by adding different amounts of shift in time to the same voltage curve, you can turn one simulation into multiple \"simulations\", increasing your training set size. This is good for the neural network."
   ]
  },
  {
   "cell_type": "code",
   "execution_count": 3,
   "metadata": {},
   "outputs": [],
   "source": [
    "Q_df_sim = pd.read_csv(f'30_sim_features/features.csv',sep=',',index_col=0)\n",
    "Q_matrix_sim = Q_df_sim.values"
   ]
  },
  {
   "cell_type": "markdown",
   "metadata": {},
   "source": [
    "`max_Q_shift` needs to be specified. This is the maximum amount of shift that can be added. "
   ]
  },
  {
   "cell_type": "markdown",
   "metadata": {},
   "source": [
    "`N` is the number of times you want to repeat the augmentation procedure, multiplying the size of the intial data set by `N`"
   ]
  },
  {
   "cell_type": "code",
   "execution_count": 4,
   "metadata": {},
   "outputs": [],
   "source": [
    "max_Q_shift = 0.15\n",
    "\n",
    "N = 8\n",
    "\n",
    "Q_df_sims_augmented = []\n",
    "for i in range(N):\n",
    "    shift = np.random.uniform(0,max_Q_shift,len(Q_df_sim))\n",
    "    Q_matrix_sim_with_shifts = Q_matrix_sim + (np.ones(np.shape(Q_matrix_sim)).T*shift).T\n",
    "    Q_df_sim_with_shifts = pd.DataFrame(Q_matrix_sim_with_shifts,index=Q_df_sim.index,columns=Q_df_sim.columns)\n",
    "    Q_df_sims_augmented.append(Q_df_sim_with_shifts)\n",
    "\n",
    "Q_df_sims_augmented_df = pd.concat(Q_df_sims_augmented)\n",
    "Q_df_sims_augmented_df.to_csv(f'30_sim_features/augmented_features_{N}x.csv',index=True)"
   ]
  },
  {
   "cell_type": "markdown",
   "metadata": {},
   "source": [
    "# Feature Resolution\n",
    "\n",
    "In some cases, it may be advantageous to reduce the feature resolution when representing a voltage curve. This can help reduce model-experiment discrepancy and can reduce training times for neural networks. This notebook saves feature files with lower voltage resolution.\n",
    "\n",
    "`mV_resolution` corresponds to the voltage resolution (in units mV) desired. The default resolution in the original `features.csv` is 1 mV.\n"
   ]
  },
  {
   "cell_type": "code",
   "execution_count": 5,
   "metadata": {},
   "outputs": [],
   "source": [
    "res_set = [1,10,100]\n",
    "\n",
    "# loop through multiple feature files if you want!\n",
    "for feature_filename in ['features','augmented_features_8x' ]:\n",
    "\n",
    "    features = pd.read_csv(f'30_sim_features/{feature_filename}.csv',sep=',',index_col=0)\n",
    "\n",
    "    for mV_resolution in res_set:\n",
    "        features_lowres = features.T[::mV_resolution].T\n",
    "        features_lowres.to_csv(f'30_sim_features/{feature_filename}_{mV_resolution}mV.csv',sep=',',index=True)"
   ]
  },
  {
   "cell_type": "markdown",
   "metadata": {},
   "source": [
    "# Adding Simulation Parameters as Features\n",
    "\n",
    "In some cases (like this example), you may want something you passed as a simulation parameter to be an additional feature that you pass as an input into your neural network. Here, we want the C-rate to be an input in predicting the degradation parameters, so we will read in the necessary feature file(s) and add a column at the end that is the C-rate."
   ]
  },
  {
   "cell_type": "code",
   "execution_count": 8,
   "metadata": {},
   "outputs": [],
   "source": [
    "sim_params = pd.read_csv('10_training_set_params/Simulation_Parameters_I0.csv',sep=',',index_col=0)"
   ]
  },
  {
   "cell_type": "code",
   "execution_count": 10,
   "metadata": {},
   "outputs": [],
   "source": [
    "# loop through multiple feature files!\n",
    "for feature_filename in ['features','augmented_features_8x' ]:\n",
    "    for mV_resolution in res_set:\n",
    "        features = pd.read_csv(f'30_sim_features/{feature_filename}_{mV_resolution}mV.csv',sep=',',index_col=0)\n",
    "        \n",
    "        # the index of the feature files is an identification number, and corresponds to a row in the sim_params table\n",
    "        # so we can use the index to identify the exact C-rate used to generate each set of features (i.e. each simulated voltage curve)\n",
    "        features['CRATE'] = sim_params.loc[features.index,'CRATE']\n",
    "        features.to_csv(f'30_sim_features/{feature_filename}_{mV_resolution}mV.csv',sep=',',index=True)"
   ]
  },
  {
   "cell_type": "code",
   "execution_count": null,
   "metadata": {},
   "outputs": [],
   "source": []
  }
 ],
 "metadata": {
  "hide_input": false,
  "kernelspec": {
   "display_name": "Python 3",
   "language": "python",
   "name": "python3"
  },
  "language_info": {
   "codemirror_mode": {
    "name": "ipython",
    "version": 3
   },
   "file_extension": ".py",
   "mimetype": "text/x-python",
   "name": "python",
   "nbconvert_exporter": "python",
   "pygments_lexer": "ipython3",
   "version": "3.8.3"
  },
  "toc": {
   "base_numbering": 1,
   "nav_menu": {},
   "number_sections": true,
   "sideBar": true,
   "skip_h1_title": false,
   "title_cell": "Table of Contents",
   "title_sidebar": "Contents",
   "toc_cell": false,
   "toc_position": {},
   "toc_section_display": true,
   "toc_window_display": false
  }
 },
 "nbformat": 4,
 "nbformat_minor": 4
}
